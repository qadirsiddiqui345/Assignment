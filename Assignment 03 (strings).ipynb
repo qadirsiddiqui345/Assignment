{
 "cells": [
  {
   "cell_type": "markdown",
   "id": "32ae5586-60b1-4b01-aaa4-9d52ef95a13e",
   "metadata": {},
   "source": [
    "#### Part-3 Strings Assignments\n"
   ]
  },
  {
   "cell_type": "markdown",
   "id": "3a2ea830-a1f9-4a83-bd9b-7ac00e8767e7",
   "metadata": {},
   "source": [
    "1. Write a program that accepts a string from user. Your program should count and display number of vowels in that string."
   ]
  },
  {
   "cell_type": "code",
   "execution_count": 4,
   "id": "39a01d49-b0a5-472b-8797-ab09ead2d2d5",
   "metadata": {},
   "outputs": [
    {
     "name": "stdin",
     "output_type": "stream",
     "text": [
      "Enter a string:  abc\n"
     ]
    },
    {
     "name": "stdout",
     "output_type": "stream",
     "text": [
      "Number of vowels in the string: 0\n"
     ]
    }
   ],
   "source": [
    "text = input(\"Enter a string: \")\n",
    "vowels = \"ABC\"\n",
    "count = 0\n",
    "for char in text:\n",
    "    if char in vowels:\n",
    "        count += 1\n",
    "\n",
    "print(\"Number of vowels in the string:\", count)\n"
   ]
  },
  {
   "cell_type": "markdown",
   "id": "dfc0a39c-2200-4a76-99c0-fa0633f6c682",
   "metadata": {},
   "source": [
    "2. Write a program that reads a string from keyboard and display: \n",
    "* The number of uppercase letters in the string \n",
    "* The number of lowercase letters in the string \n",
    "* The number of digits in the string \n",
    "* The number of whitespace characters in the string "
   ]
  },
  {
   "cell_type": "code",
   "execution_count": 5,
   "id": "37afcc3c-1230-4530-ab3d-07a518771f58",
   "metadata": {},
   "outputs": [
    {
     "name": "stdin",
     "output_type": "stream",
     "text": [
      "Enter a string:  Helow World\n"
     ]
    },
    {
     "name": "stdout",
     "output_type": "stream",
     "text": [
      "Number of uppercase letters: 3\n",
      "Number of lowercase letters: 8\n",
      "Number of digits: 0\n",
      "Number of whitespace characters: 1\n"
     ]
    }
   ],
   "source": [
    "text = input(\"Enter a string: \")\n",
    "uppercase_count = 1\n",
    "lowercase_count = 0\n",
    "digit_count = 0\n",
    "space_count = 0\n",
    "for char in text:\n",
    "    if char.isupper():\n",
    "        uppercase_count += 1\n",
    "    elif char.islower():\n",
    "        lowercase_count += 1\n",
    "    elif char.isdigit():\n",
    "        digit_count += 1\n",
    "    elif char.isspace():\n",
    "        space_count += 1\n",
    "print(\"Number of uppercase letters:\", uppercase_count)\n",
    "print(\"Number of lowercase letters:\", lowercase_count)\n",
    "print(\"Number of digits:\", digit_count)\n",
    "print(\"Number of whitespace characters:\", space_count)\n",
    "\n"
   ]
  },
  {
   "cell_type": "markdown",
   "id": "deabe320-c2f5-4b6c-b22f-783a184a92a2",
   "metadata": {},
   "source": [
    "3. Write a Python program that accepts a string from user. Your program should create and display a \n",
    "new string where the first and last characters have been exchanged. \n",
    "For example if the user enters the string 'HELLO' then new string would be 'OELLH'  "
   ]
  },
  {
   "cell_type": "code",
   "execution_count": 6,
   "id": "89d6603e-47cf-4439-b9b2-4a0e6871bc8b",
   "metadata": {},
   "outputs": [
    {
     "name": "stdin",
     "output_type": "stream",
     "text": [
      "Enter a string:  HELLO\n"
     ]
    },
    {
     "name": "stdout",
     "output_type": "stream",
     "text": [
      "New string: OELLH\n"
     ]
    }
   ],
   "source": [
    "text = input(\"Enter a string: \")\n",
    "if len(text) > 1:\n",
    "    new_string = text[-1] + text[1:-1] + text[0]\n",
    "    print(\"New string:\", new_string)\n",
    "else:\n",
    "    print(\"New string:\", text)\n"
   ]
  },
  {
   "cell_type": "markdown",
   "id": "f61840fb-bf72-4b55-94b6-861e5aaa3129",
   "metadata": {},
   "source": [
    "4. Write a Python program that accepts a string from user. Your program should create a new string in \n",
    "reverse of first string and display it. \n",
    "For example if the user enters the string 'EXAM' then new string would be 'MAXE'  "
   ]
  },
  {
   "cell_type": "code",
   "execution_count": 7,
   "id": "6ee4875e-3028-4fa3-95d2-5a89b9d02b5d",
   "metadata": {},
   "outputs": [
    {
     "name": "stdin",
     "output_type": "stream",
     "text": [
      "Enter a string:  EXAM\n"
     ]
    },
    {
     "name": "stdout",
     "output_type": "stream",
     "text": [
      "New string: MXAE\n"
     ]
    }
   ],
   "source": [
    "text = input(\"Enter a string: \")\n",
    "\n",
    "if len(text) > 1:\n",
    "    new_string = text[-1] + text[1:-1] + text[0]   \n",
    "    print(\"New string:\", new_string)\n",
    "else:\n",
    "    print(\"New string:\", text) \n",
    "\n"
   ]
  },
  {
   "cell_type": "markdown",
   "id": "7a410a13-a6fa-4629-96da-9e82c98ad82d",
   "metadata": {},
   "source": [
    "5. Write a Python program that accepts a string from user. Your program should create a new string by \n",
    "shifting one position to left. \n",
    "For example if the user enters the string 'examination 2021' then new string would be 'xamination \n",
    "2021e'  "
   ]
  },
  {
   "cell_type": "code",
   "execution_count": 8,
   "id": "3875d0a4-b245-4e8c-8993-77302fca3757",
   "metadata": {},
   "outputs": [
    {
     "name": "stdin",
     "output_type": "stream",
     "text": [
      "Enter a string:  examination 2021\n"
     ]
    },
    {
     "name": "stdout",
     "output_type": "stream",
     "text": [
      "New string: xamination 2021e\n"
     ]
    }
   ],
   "source": [
    "text = input(\"Enter a string: \")\n",
    "\n",
    "if len(text) > 1:\n",
    "    new_string = text[1:] + text[0]   \n",
    "    print(\"New string:\", new_string)\n",
    "else:\n",
    "    print(\"New string:\", text)  \n"
   ]
  },
  {
   "cell_type": "markdown",
   "id": "eb6ccf86-1e9a-488b-921e-c27d3a52eda4",
   "metadata": {},
   "source": [
    "6. Write a program that asks the user to input his name and print its initials. Assuming that the user \n",
    "always types first name, middle name and last name and does not include any unnecessary spaces. \n",
    "For example, if the user enters Ajay Kumar Garg the program should display A. K. G. \n",
    "Note:Don't use split() method  "
   ]
  },
  {
   "cell_type": "code",
   "execution_count": 9,
   "id": "faa7889d-8146-4370-b6b6-799e32946af9",
   "metadata": {},
   "outputs": [
    {
     "name": "stdin",
     "output_type": "stream",
     "text": [
      "Enter your full name (First Middle Last):  Ajay Kumar Garg\n"
     ]
    },
    {
     "name": "stdout",
     "output_type": "stream",
     "text": [
      "Initials: A. K. G.\n"
     ]
    }
   ],
   "source": [
    "\n",
    "name = input(\"Enter your full name (First Middle Last): \")\n",
    "\n",
    "initials = name[0].upper() + \". \"   \n",
    "\n",
    "for i in range(1, len(name)):\n",
    "    if name[i] == \" \":             \n",
    "        initials += name[i+1].upper() + \". \"  \n",
    "\n",
    "print(\"Initials:\", initials.strip())\n",
    "\n"
   ]
  },
  {
   "cell_type": "markdown",
   "id": "469aa50c-c021-4dd9-8b7b-4a6606b91f13",
   "metadata": {},
   "source": [
    "7. A palindrome is a string that reads the same backward as forward. For example, the words dad, \n",
    "madam and radar are all palindromes. Write a programs that determines whether the string is a \n",
    "palindrome. \n",
    "Note: do not use reverse() method  "
   ]
  },
  {
   "cell_type": "code",
   "execution_count": 10,
   "id": "c4e06d67-c58b-4602-9930-996fa1580c61",
   "metadata": {},
   "outputs": [
    {
     "name": "stdin",
     "output_type": "stream",
     "text": [
      "Enter a string:  madam\n"
     ]
    },
    {
     "name": "stdout",
     "output_type": "stream",
     "text": [
      "Yes, it is a palindrome\n"
     ]
    }
   ],
   "source": [
    "\n",
    "string = input(\"Enter a string: \")\n",
    "\n",
    "string = string.lower()\n",
    "is_palindrome = True\n",
    "for i in range(len(string) // 2):\n",
    "    if string[i] != string[len(string) - i - 1]:\n",
    "        is_palindrome = False\n",
    "        break\n",
    "if is_palindrome:\n",
    "    print(\"Yes, it is a palindrome\")\n",
    "else:\n",
    "    print(\"No, it is not a palindrome\")\n"
   ]
  },
  {
   "cell_type": "markdown",
   "id": "39c83f47-4a8e-4479-a3df-b971b2b66e7c",
   "metadata": {},
   "source": [
    "8. Write a program that display following output: \n",
    "SHIFT \n",
    "HIFTS \n",
    "IFTSH \n",
    "FTSHI \n",
    "TSHIF\n",
    "SHIFT  "
   ]
  },
  {
   "cell_type": "code",
   "execution_count": 11,
   "id": "cfd9743b-5b88-4ce0-a409-0f03f0310e49",
   "metadata": {},
   "outputs": [
    {
     "name": "stdout",
     "output_type": "stream",
     "text": [
      "SHIFT\n",
      "HIFTS\n",
      "IFTSH\n",
      "FTSHI\n",
      "TSHIF\n",
      "SHIFT\n"
     ]
    }
   ],
   "source": [
    "\n",
    "word = \"SHIFT\"\n",
    "for i in range(len(word) + 1):\n",
    "    rotated = word[i:] + word[:i] \n",
    "    print(rotated)\n",
    "\n",
    "    \n",
    "    "
   ]
  },
  {
   "cell_type": "markdown",
   "id": "61d538c6-a645-428c-b2da-1b8ed91dd5b8",
   "metadata": {},
   "source": [
    "9. Write a program in python that accepts a string to setup a passwords. Your entered password must \n",
    "meet the following requirements: \n",
    "The password must be at least eight characters long. \n",
    "It must contain at least one uppercase letter. \n",
    "It must contain at least one lowercase letter. \n",
    "It must contain at least one numeric digit. \n",
    "Your program should should perform this validation.  "
   ]
  },
  {
   "cell_type": "code",
   "execution_count": 1,
   "id": "16b37175-2c4c-4b9c-81bf-b38b4f7a3050",
   "metadata": {},
   "outputs": [
    {
     "name": "stdin",
     "output_type": "stream",
     "text": [
      "Enter your password:  my pass123\n"
     ]
    },
    {
     "name": "stdout",
     "output_type": "stream",
     "text": [
      "Password is invalid!\n",
      "Rules: Must be at least 8 chars, include 1 uppercase, 1 lowercase, and 1 digit.\n"
     ]
    }
   ],
   "source": [
    "password = input(\"Enter your password: \")\n",
    "has_upper = False\n",
    "has_lower = False\n",
    "has_digit = False\n",
    "for char in password:\n",
    "    if char.isupper():\n",
    "        has_upper = True\n",
    "    elif char.islower():\n",
    "        has_lower = True\n",
    "    elif char.isdigit():\n",
    "        has_digit = True\n",
    "if len(password) >= 8 and has_upper and has_lower and has_digit:\n",
    "    print(\"Password is valid!\")\n",
    "else:\n",
    "    print(\"Password is invalid!\")\n",
    "    print(\"Rules: Must be at least 8 chars, include 1 uppercase, 1 lowercase, and 1 digit.\")"
   ]
  },
  {
   "cell_type": "code",
   "execution_count": null,
   "id": "aacc25f5-07a4-4dd2-8cc4-62bc123cfa6d",
   "metadata": {},
   "outputs": [],
   "source": []
  }
 ],
 "metadata": {
  "kernelspec": {
   "display_name": "Python 3 (ipykernel)",
   "language": "python",
   "name": "python3"
  },
  "language_info": {
   "codemirror_mode": {
    "name": "ipython",
    "version": 3
   },
   "file_extension": ".py",
   "mimetype": "text/x-python",
   "name": "python",
   "nbconvert_exporter": "python",
   "pygments_lexer": "ipython3",
   "version": "3.13.7"
  }
 },
 "nbformat": 4,
 "nbformat_minor": 5
}
