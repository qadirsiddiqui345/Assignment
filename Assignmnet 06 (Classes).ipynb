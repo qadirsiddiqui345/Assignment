{
 "cells": [
  {
   "cell_type": "markdown",
   "metadata": {
    "id": "XLFr4w_7OFN7"
   },
   "source": [
    "1. Write a Python program to create a class representing a Circle. Include methods to calculate its area and perimeter."
   ]
  },
  {
   "cell_type": "code",
   "execution_count": 8,
   "metadata": {},
   "outputs": [
    {
     "name": "stdout",
     "output_type": "stream",
     "text": [
      "Area of circle: 78.53975\n",
      "Perimeter of circle: 31.4159\n"
     ]
    }
   ],
   "source": [
    "class Circle:\n",
    "    def __init__(self, radius):\n",
    "        self.radius = radius\n",
    "\n",
    "    # Method to calculate area\n",
    "    def area(self):\n",
    "        return 3.14159 * (self.radius ** 2)\n",
    "\n",
    "    # Method to calculate perimeter\n",
    "    def perimeter(self):\n",
    "        return 2 * 3.14159 * self.radius\n",
    "\n",
    "\n",
    "# Example usage\n",
    "circle1 = Circle(5)   # Circle with radius 5\n",
    "\n",
    "print(\"Area of circle:\", circle1.area())\n",
    "print(\"Perimeter of circle:\", circle1.perimeter())\n"
   ]
  },
  {
   "cell_type": "markdown",
   "metadata": {
    "id": "CBPk4mH4OTCO"
   },
   "source": [
    "2. Write a Python program to create a person class. Include attributes like name, country and date of birth. Implement a method to determine the person's age.\n"
   ]
  },
  {
   "cell_type": "code",
   "execution_count": 9,
   "metadata": {},
   "outputs": [
    {
     "name": "stdout",
     "output_type": "stream",
     "text": [
      "Name: Ali\n",
      "Country: Pakistan\n",
      "Birth Year: 2000\n",
      "Age: 25\n"
     ]
    }
   ],
   "source": [
    "class Person:\n",
    "    def __init__(self, name, country, birth_year):\n",
    "        self.name = name\n",
    "        self.country = country\n",
    "        self.birth_year = birth_year\n",
    "\n",
    "    # Method to calculate age\n",
    "    def age(self, current_year):\n",
    "        return current_year - self.birth_year\n",
    "\n",
    "\n",
    "# Example usage\n",
    "person1 = Person(\"Ali\", \"Pakistan\", 2000)\n",
    "\n",
    "print(\"Name:\", person1.name)\n",
    "print(\"Country:\", person1.country)\n",
    "print(\"Birth Year:\", person1.birth_year)\n",
    "print(\"Age:\", person1.age(2025))\n"
   ]
  },
  {
   "cell_type": "markdown",
   "metadata": {},
   "source": [
    "3. Write a Python program to create a calculator class. Include methods for basic arithmetic operations."
   ]
  },
  {
   "cell_type": "code",
   "execution_count": 10,
   "metadata": {},
   "outputs": [
    {
     "name": "stdout",
     "output_type": "stream",
     "text": [
      "Addition: 15\n",
      "Subtraction: 5\n",
      "Multiplication: 50\n",
      "Division: 2.0\n",
      "Division by zero: Error! Division by zero.\n"
     ]
    }
   ],
   "source": [
    "class Calculator:\n",
    "    def add(self, a, b):\n",
    "        return a + b\n",
    "\n",
    "    def subtract(self, a, b):\n",
    "        return a - b\n",
    "\n",
    "    def multiply(self, a, b):\n",
    "        return a * b\n",
    "\n",
    "    def divide(self, a, b):\n",
    "        if b != 0:\n",
    "            return a / b\n",
    "        else:\n",
    "            return \"Error! Division by zero.\"\n",
    "\n",
    "\n",
    "# Example usage\n",
    "calc = Calculator()\n",
    "\n",
    "print(\"Addition:\", calc.add(10, 5))\n",
    "print(\"Subtraction:\", calc.subtract(10, 5))\n",
    "print(\"Multiplication:\", calc.multiply(10, 5))\n",
    "print(\"Division:\", calc.divide(10, 5))\n",
    "print(\"Division by zero:\", calc.divide(10, 0))\n"
   ]
  },
  {
   "cell_type": "code",
   "execution_count": null,
   "metadata": {},
   "outputs": [],
   "source": []
  }
 ],
 "metadata": {
  "colab": {
   "provenance": []
  },
  "kernelspec": {
   "display_name": "Python 3 (ipykernel)",
   "language": "python",
   "name": "python3"
  },
  "language_info": {
   "codemirror_mode": {
    "name": "ipython",
    "version": 3
   },
   "file_extension": ".py",
   "mimetype": "text/x-python",
   "name": "python",
   "nbconvert_exporter": "python",
   "pygments_lexer": "ipython3",
   "version": "3.13.7"
  }
 },
 "nbformat": 4,
 "nbformat_minor": 4
}
