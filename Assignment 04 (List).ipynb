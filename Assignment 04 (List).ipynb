{
 "cells": [
  {
   "cell_type": "markdown",
   "id": "5cce6085-5f0b-4e9b-8763-c2bbe5b609d2",
   "metadata": {},
   "source": [
    "##### List Assignment "
   ]
  },
  {
   "cell_type": "markdown",
   "id": "92312c75-ea1a-47b0-88cd-9b266ff79c61",
   "metadata": {},
   "source": [
    "1. Write a program that accepts a list from user and print the alternate element of list. "
   ]
  },
  {
   "cell_type": "code",
   "execution_count": 1,
   "id": "9fbe01a8-943f-44ff-8306-5dc7dada23a7",
   "metadata": {},
   "outputs": [
    {
     "name": "stdin",
     "output_type": "stream",
     "text": [
      "Enter elements of the list separated by spaces:  10 20 30 40 50 60\n"
     ]
    },
    {
     "name": "stdout",
     "output_type": "stream",
     "text": [
      "Original List: ['10', '20', '30', '40', '50', '60']\n",
      "Alternate Elements:\n",
      "10\n",
      "30\n",
      "50\n"
     ]
    }
   ],
   "source": [
    "\n",
    "user_input = input(\"Enter elements of the list separated by spaces: \")\n",
    "my_list = user_input.split()\n",
    "\n",
    "print(\"Original List:\", my_list)\n",
    "\n",
    "print(\"Alternate Elements:\")\n",
    "for i in range(0, len(my_list), 2):\n",
    "    print(my_list[i])\n"
   ]
  },
  {
   "cell_type": "markdown",
   "id": "73defddf-0a14-42f4-bbe1-1c347eb4607f",
   "metadata": {},
   "source": [
    "2. Write a program that accepts a list from user. Your program should reverse the content of list and \n",
    "display it. Do not use reverse() method.  "
   ]
  },
  {
   "cell_type": "code",
   "execution_count": 1,
   "id": "98a99522-fc21-4bf4-8cdd-cc33766e81ef",
   "metadata": {},
   "outputs": [
    {
     "name": "stdin",
     "output_type": "stream",
     "text": [
      "Enter elements of the list separated by spaces:  A B C D E\n"
     ]
    },
    {
     "name": "stdout",
     "output_type": "stream",
     "text": [
      "Original List: ['A', 'B', 'C', 'D', 'E']\n",
      "Reversed List: ['E', 'D', 'C', 'B', 'A']\n"
     ]
    }
   ],
   "source": [
    "\n",
    "user_input = input(\"Enter elements of the list separated by spaces: \")\n",
    "\n",
    "my_list = user_input.split()\n",
    "\n",
    "print(\"Original List:\", my_list)\n",
    "\n",
    "reversed_list = []\n",
    "\n",
    "for i in range(len(my_list) - 1, -1, -1):\n",
    "    reversed_list.append(my_list[i])\n",
    "\n",
    "print(\"Reversed List:\", reversed_list)\n"
   ]
  },
  {
   "cell_type": "markdown",
   "id": "1c096a89-97a4-4d76-952a-c928c19fef90",
   "metadata": {},
   "source": [
    "3. Find and display the largest number of a list without using built-in function max(). Your program \n",
    "should ask the user to input values in list from keyboard.  "
   ]
  },
  {
   "cell_type": "code",
   "execution_count": 3,
   "id": "07d8d6fd-6c55-409b-98a0-9359b0f8597f",
   "metadata": {},
   "outputs": [
    {
     "name": "stdin",
     "output_type": "stream",
     "text": [
      "Enter numbers separated by spaces:  12 45 7 89 23\n"
     ]
    },
    {
     "name": "stdout",
     "output_type": "stream",
     "text": [
      "The largest number in the list is: 89\n"
     ]
    }
   ],
   "source": [
    "\n",
    "user_input = input(\"Enter numbers separated by spaces: \")\n",
    "\n",
    "num_list = [int(x) for x in user_input.split()]\n",
    "\n",
    "largest = num_list[0]\n",
    "for num in num_list:\n",
    "    if num > largest:\n",
    "        largest = num\n",
    "\n",
    "print(\"The largest number in the list is:\", largest)\n"
   ]
  },
  {
   "cell_type": "markdown",
   "id": "04c41bd6-cf7a-453b-a3ac-6df5dca00e75",
   "metadata": {},
   "source": [
    "4. Write a program that rotates the element of a list so that the element at the first index moves to the \n",
    "second index, the element in the second index moves to the third index, etc., and the element in the last \n",
    "index moves to the first index.   "
   ]
  },
  {
   "cell_type": "code",
   "execution_count": 1,
   "id": "4401af95-28e6-45db-9762-81dc0d85add2",
   "metadata": {},
   "outputs": [
    {
     "name": "stdin",
     "output_type": "stream",
     "text": [
      "Enter number of elements:  5\n",
      "Enter element 1:  A\n",
      "Enter element 2:  B\n",
      "Enter element 3:  C\n",
      "Enter element 4:  D\n",
      "Enter element 5:  E\n"
     ]
    },
    {
     "name": "stdout",
     "output_type": "stream",
     "text": [
      "Original List: ['A', 'B', 'C', 'D', 'E']\n",
      "Rotated List : ['E', 'A', 'B', 'C', 'D']\n"
     ]
    }
   ],
   "source": [
    "\n",
    "n = int(input(\"Enter number of elements: \"))\n",
    "my_list = []\n",
    "\n",
    "for i in range(n):\n",
    "    element = input(f\"Enter element {i+1}: \")\n",
    "    my_list.append(element)\n",
    "\n",
    "print(\"Original List:\", my_list)\n",
    "\n",
    "rotated_list = [my_list[-1]] + my_list[:-1]\n",
    "\n",
    "print(\"Rotated List :\", rotated_list)\n"
   ]
  },
  {
   "cell_type": "markdown",
   "id": "88a2cdf8-9bdb-422f-a489-79309a90ac9b",
   "metadata": {},
   "source": [
    "5. Write a program that input a string and ask user to delete a given word from a string.  "
   ]
  },
  {
   "cell_type": "code",
   "execution_count": 4,
   "id": "bf89d2d1-5e0c-4a0d-a5ff-5ab10ef73180",
   "metadata": {},
   "outputs": [
    {
     "name": "stdin",
     "output_type": "stream",
     "text": [
      "Enter a string:  I am going to start\n",
      "Enter the word you want to delete:  start\n"
     ]
    },
    {
     "name": "stdout",
     "output_type": "stream",
     "text": [
      "String after deleting the word: I am going to\n"
     ]
    }
   ],
   "source": [
    "\n",
    "text = input(\"Enter a string: \")\n",
    "\n",
    "word_to_delete = input(\"Enter the word you want to delete: \")\n",
    "new_text = text.replace(word_to_delete, \"\")\n",
    "\n",
    "new_text = \" \".join(new_text.split())\n",
    "\n",
    "\n",
    "print(\"String after deleting the word:\", new_text)\n"
   ]
  },
  {
   "cell_type": "markdown",
   "id": "c87a2bfb-b274-457e-9d00-9b8414ba41d6",
   "metadata": {},
   "source": [
    "6. Write a program that reads a string from the user containing a date in the form mm/dd/yyyy. It \n",
    "should print the date in the form March 12, 2021."
   ]
  },
  {
   "cell_type": "code",
   "execution_count": 8,
   "id": "c36681c7-09db-49d7-bf0b-44c19178b55c",
   "metadata": {},
   "outputs": [
    {
     "name": "stdin",
     "output_type": "stream",
     "text": [
      "Enter a date (mm/dd/yyyy):  03/10/2024\n"
     ]
    },
    {
     "name": "stdout",
     "output_type": "stream",
     "text": [
      "March 10, 2024\n"
     ]
    }
   ],
   "source": [
    "\n",
    "months = {\n",
    "    \"01\": \"January\", \"02\": \"February\", \"03\": \"March\", \"04\": \"April\",\n",
    "    \"05\": \"May\", \"06\": \"June\", \"07\": \"July\", \"08\": \"August\",\n",
    "    \"09\": \"September\", \"10\": \"October\", \"11\": \"November\", \"12\": \"December\"\n",
    "}\n",
    "\n",
    "date_str = input(\"Enter a date (mm/dd/yyyy): \")\n",
    "\n",
    "month, day, year = date_str.split(\"/\")\n",
    "\n",
    "print(f\"{months[month]} {int(day)}, {year}\")\n"
   ]
  },
  {
   "cell_type": "markdown",
   "id": "0a421296-d49d-4470-8b48-ed8ccf298dbf",
   "metadata": {},
   "source": [
    "7. Write a program with a function that accepts a string from keyboard and create a new string after \n",
    "converting character of each word capitalized. For instance, if the sentence is \"stop and smell the roses.\" \n",
    "the output should be \"Stop And Smell The Roses\" "
   ]
  },
  {
   "cell_type": "code",
   "execution_count": 10,
   "id": "99c2940b-1891-47b6-bba3-6c835684f69d",
   "metadata": {},
   "outputs": [
    {
     "name": "stdin",
     "output_type": "stream",
     "text": [
      "Enter a sentence:  i love pakistan\n"
     ]
    },
    {
     "name": "stdout",
     "output_type": "stream",
     "text": [
      "Converted String: I Love Pakistan\n"
     ]
    }
   ],
   "source": [
    "def capitalize_words(sentence):\n",
    "    new_sentence = \"\"\n",
    "    capitalize_next = True   \n",
    "\n",
    "    for char in sentence:\n",
    "        if capitalize_next and char.isalpha(): \n",
    "            new_sentence += char.upper()\n",
    "            capitalize_next = False\n",
    "        else:\n",
    "            new_sentence += char.lower()  \n",
    "            if char == \" \":               \n",
    "                capitalize_next = True\n",
    "\n",
    "    return new_sentence\n",
    "\n",
    "text = input(\"Enter a sentence: \")\n",
    "\n",
    "result = capitalize_words(text)\n",
    "print(\"Converted String:\", result)\n"
   ]
  },
  {
   "cell_type": "markdown",
   "id": "e67e4a71-d3e0-491f-bc30-5d1cfb26fc27",
   "metadata": {},
   "source": [
    "8. Find the sum of each row of matrix of size m x n. For example for the following matrix output will be like this:\n",
    "2 11 7 12\n",
    "5 2 9  15\n",
    "8 3 10 42\n",
    "Sum of row 1 = 32 \n",
    "Sum of row 2 = 31 \n",
    "Sum of row 3 = 63"
   ]
  },
  {
   "cell_type": "code",
   "execution_count": null,
   "id": "d19e6d5a-b4c8-4447-a418-bc1204c7519f",
   "metadata": {},
   "outputs": [
    {
     "name": "stdin",
     "output_type": "stream",
     "text": [
      "Enter number of rows (m):  3\n",
      "Enter number of columns (n):  4\n"
     ]
    },
    {
     "name": "stdout",
     "output_type": "stream",
     "text": [
      "Enter elements row by row:\n"
     ]
    },
    {
     "name": "stdin",
     "output_type": "stream",
     "text": [
      "Enter element at position (1,1):  32\n",
      "Enter element at position (1,2):  31\n",
      "Enter element at position (1,3):  63\n"
     ]
    }
   ],
   "source": [
    "\n",
    "def row_sums(matrix):\n",
    "    for row in matrix:\n",
    "        print(sum(row), end=\" \")\n",
    "\n",
    "m = int(input(\"Enter number of rows (m): \"))\n",
    "n = int(input(\"Enter number of columns (n): \"))\n",
    "\n",
    "matrix = []\n",
    "print(\"Enter elements row by row:\")\n",
    "for i in range(m):\n",
    "    row = []\n",
    "    for j in range(n):\n",
    "        val = int(input(f\"Enter element at position ({i+1},{j+1}): \"))\n",
    "        row.append(val)\n",
    "    matrix.append(row)\n",
    "    \n",
    "\n",
    "print(\"Row sums are:\")\n",
    "row_sums(matrix)\n"
   ]
  },
  {
   "cell_type": "markdown",
   "id": "0daac064-12cc-47a6-8683-473893fcb29c",
   "metadata": {},
   "source": [
    "9. Write a program to add two matrices of size n x m."
   ]
  },
  {
   "cell_type": "code",
   "execution_count": null,
   "id": "bad5bacc-5456-45de-b27b-08dc77d863d0",
   "metadata": {},
   "outputs": [
    {
     "name": "stdin",
     "output_type": "stream",
     "text": [
      "Enter number of rows (n):  2\n",
      "Enter number of columns (m):  3\n"
     ]
    },
    {
     "name": "stdout",
     "output_type": "stream",
     "text": [
      "Enter elements of first matrix:\n"
     ]
    }
   ],
   "source": [
    "\n",
    "n = int(input(\"Enter number of rows (n): \"))\n",
    "m = int(input(\"Enter number of columns (m): \"))\n",
    "\n",
    "print(\"Enter elements of first matrix:\")\n",
    "matrix1 = []\n",
    "for i in range(n):\n",
    "    row = []\n",
    "    for j in range(m):\n",
    "        val = int(input(f\"Enter element at position ({i+1},{j+1}) of Matrix 1: \"))\n",
    "        row.append(val)\n",
    "    matrix1.append(row)\n",
    "\n",
    "print(\"Enter elements of second matrix:\")\n",
    "matrix2 = []\n",
    "for i in range(n):\n",
    "    row = []\n",
    "    for j in range(m):\n",
    "        val = int(input(f\"Enter element at position ({i+1},{j+1}) of Matrix 2: \"))\n",
    "        row.append(val)\n",
    "    matrix2.append(row)\n",
    "\n",
    "result = []\n",
    "for i in range(n):\n",
    "    row = []\n",
    "    for j in range(m):\n",
    "        row.append(matrix1[i][j] + matrix2[i][j])\n",
    "    result.append(row)\n",
    "\n",
    "print(\"Resultant Matrix after Addition:\")\n",
    "for row in result:\n",
    "    print(row)\n"
   ]
  },
  {
   "cell_type": "markdown",
   "id": "4a4593e5-3d9a-4643-b41b-73db5292635f",
   "metadata": {},
   "source": [
    "10. Write a program to multiply two matrices"
   ]
  },
  {
   "cell_type": "code",
   "execution_count": null,
   "id": "9a9504c0-2573-40a5-b936-f87e505abecd",
   "metadata": {},
   "outputs": [
    {
     "name": "stdin",
     "output_type": "stream",
     "text": [
      "Enter number of rows of first matrix (n):  2\n",
      "Enter number of columns of first matrix / rows of second matrix (m):  3\n",
      "Enter number of columns of second matrix (p):  2\n"
     ]
    },
    {
     "name": "stdout",
     "output_type": "stream",
     "text": [
      "Enter elements of first matrix:\n"
     ]
    }
   ],
   "source": [
    "\n",
    "n = int(input(\"Enter number of rows of first matrix (n): \"))\n",
    "m = int(input(\"Enter number of columns of first matrix / rows of second matrix (m): \"))\n",
    "p = int(input(\"Enter number of columns of second matrix (p): \"))\n",
    "\n",
    "print(\"Enter elements of first matrix:\")\n",
    "A = []\n",
    "for i in range(n):\n",
    "    row = []\n",
    "    for j in range(m):\n",
    "        val = int(input(f\"Enter element at position ({i+1},{j+1}) of Matrix A: \"))\n",
    "        row.append(val)\n",
    "    A.append(row)\n",
    "\n",
    "print(\"Enter elements of second matrix:\")\n",
    "B = []\n",
    "for i in range(m):\n",
    "    row = []\n",
    "    for j in range(p):\n",
    "        val = int(input(f\"Enter element at position ({i+1},{j+1}) of Matrix B: \"))\n",
    "        row.append(val)\n",
    "    B.append(row)\n",
    "\n",
    "C = [[0 for _ in range(p)] for _ in range(n)]\n",
    "\n",
    "for i in range(n):\n",
    "    for j in range(p):\n",
    "        for k in range(m):\n",
    "            C[i][j] += A[i][k] * B[k][j]\n",
    "\n",
    "print(\"\\nResultant Matrix after Multiplication:\")\n",
    "for i in range(n):\n",
    "    for j in range(p):\n",
    "        print(C[i][j], end=\" \")\n",
    "    print()\n"
   ]
  },
  {
   "cell_type": "code",
   "execution_count": null,
   "id": "a9097276-d2ea-47e0-9be4-4fdf7c944a51",
   "metadata": {},
   "outputs": [],
   "source": []
  },
  {
   "cell_type": "code",
   "execution_count": null,
   "id": "9d9bcb9a-4aee-4781-9031-f02a90d96b7e",
   "metadata": {},
   "outputs": [],
   "source": []
  }
 ],
 "metadata": {
  "kernelspec": {
   "display_name": "Python 3 (ipykernel)",
   "language": "python",
   "name": "python3"
  },
  "language_info": {
   "codemirror_mode": {
    "name": "ipython",
    "version": 3
   },
   "file_extension": ".py",
   "mimetype": "text/x-python",
   "name": "python",
   "nbconvert_exporter": "python",
   "pygments_lexer": "ipython3",
   "version": "3.13.7"
  }
 },
 "nbformat": 4,
 "nbformat_minor": 5
}
