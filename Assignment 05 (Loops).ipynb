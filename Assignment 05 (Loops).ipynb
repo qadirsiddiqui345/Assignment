{
 "cells": [
  {
   "cell_type": "markdown",
   "id": "09fca999-eb9d-4432-abb9-629888ce1ca8",
   "metadata": {},
   "source": [
    "##### Looping Structures"
   ]
  },
  {
   "cell_type": "markdown",
   "id": "b3e1afba-77e4-46a9-a4dc-fc278d19aa75",
   "metadata": {},
   "source": [
    "1. Write a Python program to print the numbers from 1 to 10 using a for loop.   "
   ]
  },
  {
   "cell_type": "code",
   "execution_count": 1,
   "id": "6848f38b-9ed3-4fec-9a06-c6088bb7978b",
   "metadata": {},
   "outputs": [
    {
     "name": "stdout",
     "output_type": "stream",
     "text": [
      "1\n",
      "2\n",
      "3\n",
      "4\n",
      "5\n",
      "6\n",
      "7\n",
      "8\n",
      "9\n",
      "10\n"
     ]
    }
   ],
   "source": [
    "\n",
    "for i in range(1, 11):\n",
    "\n",
    "    print(i)\n"
   ]
  },
  {
   "cell_type": "markdown",
   "id": "09081444-8149-418f-ae3e-0ba3e224bbca",
   "metadata": {},
   "source": [
    "2. Write a Python program to print the numbers from 20 to 1 using a while loop."
   ]
  },
  {
   "cell_type": "code",
   "execution_count": 4,
   "id": "6b394646-e188-478f-95e2-d103c969c544",
   "metadata": {},
   "outputs": [
    {
     "name": "stdout",
     "output_type": "stream",
     "text": [
      "20\n",
      "19\n",
      "18\n",
      "17\n",
      "16\n",
      "15\n",
      "14\n",
      "13\n",
      "12\n",
      "11\n",
      "10\n",
      "9\n",
      "8\n",
      "7\n",
      "6\n",
      "5\n",
      "4\n",
      "3\n",
      "2\n",
      "1\n"
     ]
    }
   ],
   "source": [
    "\n",
    "i = 20\n",
    "while i >= 1:\n",
    "    print(i)\n",
    "    i -= 1\n"
   ]
  },
  {
   "cell_type": "markdown",
   "id": "b5123133-5e70-4482-be0f-291448e8ea87",
   "metadata": {},
   "source": [
    "3. Write a program to print even numbers from 1 to 10.  "
   ]
  },
  {
   "cell_type": "code",
   "execution_count": 5,
   "id": "3dff12f2-14e5-45b3-acbe-1ad8c8388736",
   "metadata": {},
   "outputs": [
    {
     "name": "stdout",
     "output_type": "stream",
     "text": [
      "2\n",
      "4\n",
      "6\n",
      "8\n",
      "10\n"
     ]
    }
   ],
   "source": [
    "\n",
    "for i in range(1, 11):\n",
    "    if i % 2 == 0:\n",
    "        print(i)\n"
   ]
  },
  {
   "cell_type": "markdown",
   "id": "466d0a1f-ebc1-4482-a1dd-aea01d6c3642",
   "metadata": {},
   "source": [
    "4. Write a program that prompts the user to enter a number n and prints all the \n",
    "numbers from 1 to n.   "
   ]
  },
  {
   "cell_type": "code",
   "execution_count": 9,
   "id": "7363f684-9005-47a2-ae37-be615800dcb1",
   "metadata": {},
   "outputs": [
    {
     "name": "stdin",
     "output_type": "stream",
     "text": [
      "Enter a number:  8\n"
     ]
    },
    {
     "name": "stdout",
     "output_type": "stream",
     "text": [
      "1\n",
      "2\n",
      "3\n",
      "4\n",
      "5\n",
      "6\n",
      "7\n",
      "8\n"
     ]
    }
   ],
   "source": [
    "\n",
    "n = int(input(\"Enter a number: \"))\n",
    "for i in range(1, n + 1):\n",
    "    print(i)\n",
    "    "
   ]
  },
  {
   "cell_type": "markdown",
   "id": "9a1dde81-3c66-4165-b0d5-d0a9fe06a793",
   "metadata": {},
   "source": [
    "5. Write a program that prompts the user to enter a number n, and then prints all the \n",
    "odd numbers between 1 and n.   "
   ]
  },
  {
   "cell_type": "code",
   "execution_count": 11,
   "id": "aec8acb2-d91b-4ee8-a779-4a5e9905ef15",
   "metadata": {},
   "outputs": [
    {
     "name": "stdin",
     "output_type": "stream",
     "text": [
      "Enter a number:  10\n"
     ]
    },
    {
     "name": "stdout",
     "output_type": "stream",
     "text": [
      "Odd numbers between 1 and 10 are:\n",
      "1\n",
      "3\n",
      "5\n",
      "7\n",
      "9\n"
     ]
    }
   ],
   "source": [
    "\n",
    "n = int(input(\"Enter a number: \"))\n",
    "\n",
    "print(\"Odd numbers between 1 and\", n, \"are:\")\n",
    "\n",
    "for i in range(1, n + 1):\n",
    "    if i % 2 != 0: \n",
    "        print(i)\n"
   ]
  },
  {
   "cell_type": "markdown",
   "id": "40ae49de-1c73-4a4f-9bba-22d9268d7cc1",
   "metadata": {},
   "source": [
    "6. Write a program that prints 'Happy Birthday!' five times on screen. "
   ]
  },
  {
   "cell_type": "code",
   "execution_count": 13,
   "id": "80bfbef8-cff4-442b-8901-979f10ac7d10",
   "metadata": {},
   "outputs": [
    {
     "name": "stdout",
     "output_type": "stream",
     "text": [
      "Happy Birthday!\n",
      "Happy Birthday!\n",
      "Happy Birthday!\n",
      "Happy Birthday!\n",
      "Happy Birthday!\n"
     ]
    }
   ],
   "source": [
    "\n",
    "for i in range(5):\n",
    "    print(\"Happy Birthday!\")\n"
   ]
  },
  {
   "cell_type": "markdown",
   "id": "e1187115-c061-4bf2-80dc-9b22c58e0791",
   "metadata": {},
   "source": [
    "7. Write a program that takes a number n as input from the user and generates the first \n",
    "n terms of the series formed by squaring the natural numbers. \n",
    "Sample output \n",
    "Enter a number: 6 \n",
    "The first 6 terms of the series are: \n",
    "1 4 9 16 25 36 "
   ]
  },
  {
   "cell_type": "code",
   "execution_count": 20,
   "id": "49283288-440b-4a09-b63a-c51dc509a0a4",
   "metadata": {},
   "outputs": [
    {
     "name": "stdin",
     "output_type": "stream",
     "text": [
      "Enter a number:  6\n"
     ]
    },
    {
     "name": "stdout",
     "output_type": "stream",
     "text": [
      "The first 6 terms of the series are: 1 4 9 16 25 36 \n"
     ]
    }
   ],
   "source": [
    "\n",
    "n = int(input(\"Enter a number: \"))\n",
    "\n",
    "print(f\"The first {n} terms of the series are:\", end=\" \")\n",
    "\n",
    "for i in range(1, n + 1):\n",
    "    print(i * i, end=\" \")\n",
    "\n",
    "print()\n"
   ]
  },
  {
   "cell_type": "markdown",
   "id": "2eb1ad0b-4f4a-43a0-9457-1a27d35b3db1",
   "metadata": {},
   "source": [
    "8. Write a program that prompts the user to input a number and prints its multiplication \n",
    "table.  "
   ]
  },
  {
   "cell_type": "code",
   "execution_count": 21,
   "id": "7beaf382-5576-42d0-8023-79f620f7196c",
   "metadata": {},
   "outputs": [
    {
     "name": "stdin",
     "output_type": "stream",
     "text": [
      "Enter a number:  5\n"
     ]
    },
    {
     "name": "stdout",
     "output_type": "stream",
     "text": [
      "Multiplication Table of 5:\n",
      "5 x 1 = 5\n",
      "5 x 2 = 10\n",
      "5 x 3 = 15\n",
      "5 x 4 = 20\n",
      "5 x 5 = 25\n",
      "5 x 6 = 30\n",
      "5 x 7 = 35\n",
      "5 x 8 = 40\n",
      "5 x 9 = 45\n",
      "5 x 10 = 50\n"
     ]
    }
   ],
   "source": [
    "\n",
    "num = int(input(\"Enter a number: \"))\n",
    "\n",
    "print(f\"Multiplication Table of {num}:\")\n",
    "for i in range(1, 11):\n",
    "    print(f\"{num} x {i} = {num * i}\")\n"
   ]
  },
  {
   "cell_type": "markdown",
   "id": "5bad89bd-51b1-420b-90bc-581fc2ce1b6f",
   "metadata": {},
   "source": [
    "9. Write a Python program to print the first 8 terms of an arithmetic progression starting \n",
    "with 3 and having a common difference of 4. \n",
    "The program should output the following sequence: \n",
    "3 7 11 15 19 23 27 31  "
   ]
  },
  {
   "cell_type": "code",
   "execution_count": 22,
   "id": "f428435f-0b78-4e11-bed3-96c974728d42",
   "metadata": {},
   "outputs": [
    {
     "name": "stdout",
     "output_type": "stream",
     "text": [
      "The first 8 terms of the AP are:\n",
      "3 7 11 15 19 23 27 31 "
     ]
    }
   ],
   "source": [
    "\n",
    "a = 3\n",
    "d = 4\n",
    "\n",
    "print(\"The first 8 terms of the AP are:\")\n",
    "\n",
    "for i in range(8):\n",
    "    term = a + i * d\n",
    "    print(term, end=\" \")\n"
   ]
  },
  {
   "cell_type": "markdown",
   "id": "4fcef4fb-d394-4600-b8d9-367e90142224",
   "metadata": {},
   "source": [
    "10. Write a Python program to print the first 6 terms of a geometric sequence starting \n",
    "with 2 and having a common ratio of 3. \n",
    "The program should output the following sequence: \n",
    "2 6 18 54 162 486   "
   ]
  },
  {
   "cell_type": "code",
   "execution_count": 23,
   "id": "b8c17eb2-3a02-4243-8728-149b92c9a043",
   "metadata": {},
   "outputs": [
    {
     "name": "stdout",
     "output_type": "stream",
     "text": [
      "The first 6 terms of the GP are:\n",
      "2 6 18 54 162 486 "
     ]
    }
   ],
   "source": [
    "\n",
    "a = 2\n",
    "r = 3\n",
    "\n",
    "print(\"The first 6 terms of the GP are:\")\n",
    "\n",
    "for i in range(6):\n",
    "    term = a * (r ** i)\n",
    "    print(term, end=\" \")\n"
   ]
  },
  {
   "cell_type": "markdown",
   "id": "669d30dd-6c9a-4151-a018-0da48025c67b",
   "metadata": {},
   "source": [
    "11. Write a program that asks the user for a positive integer value. The program should \n",
    "calculate the sum of all the integers from 1 up to the number entered. For example, if \n",
    "the user enters 20, the loop will find the sum of 1, 2, 3, 4, ... 20.  "
   ]
  },
  {
   "cell_type": "code",
   "execution_count": 24,
   "id": "a8660324-ac74-4685-aae9-5f1933af5f2e",
   "metadata": {},
   "outputs": [
    {
     "name": "stdin",
     "output_type": "stream",
     "text": [
      "Enter a positive integer:  20\n"
     ]
    },
    {
     "name": "stdout",
     "output_type": "stream",
     "text": [
      "The sum of numbers from 1 to 20 is: 210\n"
     ]
    }
   ],
   "source": [
    "\n",
    "n = int(input(\"Enter a positive integer: \"))\n",
    "\n",
    "total = 0\n",
    "\n",
    "for i in range(1, n + 1):\n",
    "    total += i\n",
    "\n",
    "print(\"The sum of numbers from 1 to\", n, \"is:\", total)\n"
   ]
  },
  {
   "cell_type": "markdown",
   "id": "d56cb04b-d6e9-423e-ade8-fcac5d0c0d77",
   "metadata": {},
   "source": [
    "12. write a program that takes a positive integer N as input and calculates the sum of \n",
    "the reciprocals of all numbers from 1 up to N. The program should display the final sum.\n",
    "Output of the program should be like: \n",
    "Enter a positive integer: 5 \n",
    "The sum of reciprocals from 1 to 5 is: 2.28"
   ]
  },
  {
   "cell_type": "code",
   "execution_count": 27,
   "id": "7f5dd2a7-4517-4f96-80b7-d72e7473ec86",
   "metadata": {},
   "outputs": [
    {
     "name": "stdin",
     "output_type": "stream",
     "text": [
      "Enter a positive integer:  5\n"
     ]
    },
    {
     "name": "stdout",
     "output_type": "stream",
     "text": [
      "The sum of reciprocals from 1 to 5 is: 2.28\n"
     ]
    }
   ],
   "source": [
    "\n",
    "N = int(input(\"Enter a positive integer: \"))\n",
    "\n",
    "total = 0.0\n",
    "\n",
    "for i in range(1, N + 1):\n",
    "    total += 1 / i\n",
    "\n",
    "print(f\"The sum of reciprocals from 1 to {N} is: {total:.2f}\")\n"
   ]
  },
  {
   "cell_type": "markdown",
   "id": "14dcb65f-70bf-4576-9894-92e6535d5129",
   "metadata": {},
   "source": [
    "13. Write a program that prompts the user to enter a number and repeats this process 5 \n",
    "times. The program should accumulate the numbers entered and then display the final \n",
    "running total. \n",
    "Sample Output: \n",
    "Enter a number: 10 \n",
    "Enter a number: 15 \n",
    "Enter a number: 35 \n",
    "Enter a number: 40 \n",
    "Enter a number: 50 \n",
    "The final running total is: 150   "
   ]
  },
  {
   "cell_type": "code",
   "execution_count": 28,
   "id": "1677a7ec-a9ca-463c-85a2-e80004ec44f7",
   "metadata": {},
   "outputs": [
    {
     "name": "stdin",
     "output_type": "stream",
     "text": [
      "Enter a number:  10\n",
      "Enter a number:  15\n",
      "Enter a number:  35\n",
      "Enter a number:  40\n",
      "Enter a number:  50\n"
     ]
    },
    {
     "name": "stdout",
     "output_type": "stream",
     "text": [
      "The final running total is: 150\n"
     ]
    }
   ],
   "source": [
    "\n",
    "total = 0  \n",
    "\n",
    "for i in range(5):\n",
    "    num = int(input(\"Enter a number: \"))\n",
    "    total += num  \n",
    "\n",
    "print(\"The final running total is:\", total)\n"
   ]
  },
  {
   "cell_type": "markdown",
   "id": "a1db2f47-8a69-4dc7-89d0-d8ced84b1d59",
   "metadata": {},
   "source": [
    "14. Write a program that prompts the user to enter a positive integer and calculates its \n",
    "factorial. The factorial of a positive integer 'n' is denoted as 'n!' and is calculated by \n",
    "multiplying all the integers from 1 to 'n' together. For example, the factorial of 5 \n",
    "(denoted as 5!) is calculated as 1 x 2 x 3 x 4 x 5. \n",
    "The program should display the factorial value if the input is a positive number, or \n",
    "display a message stating that the factorial does not exist for negative numbers. \n",
    "Additionally, for an input of zero, the program should output that the factorial of 0 is 1.  "
   ]
  },
  {
   "cell_type": "code",
   "execution_count": 31,
   "id": "6f73e961-3e7f-4cdc-9b01-c4e888b9d6ac",
   "metadata": {},
   "outputs": [
    {
     "name": "stdin",
     "output_type": "stream",
     "text": [
      "Enter a positive integer:  -5\n"
     ]
    },
    {
     "name": "stdout",
     "output_type": "stream",
     "text": [
      "Factorial does not exist for negative numbers.\n"
     ]
    }
   ],
   "source": [
    "\n",
    "n = int(input(\"Enter a positive integer: \"))\n",
    "\n",
    "if n < 0:\n",
    "    print(\"Factorial does not exist for negative numbers.\")\n",
    "elif n == 0:\n",
    "    print(\"The factorial of 0 is 1.\")\n",
    "else:\n",
    "    factorial = 1\n",
    "    for i in range(1, n + 1):\n",
    "        \n",
    "        factorial *= i\n",
    "        \n",
    "    print(\"The factorial of\", n, \"is:\", factorial)\n"
   ]
  },
  {
   "cell_type": "markdown",
   "id": "4f5c2ae3-f7d2-4e20-9eac-16ab9b513dae",
   "metadata": {},
   "source": [
    "15. Write a Python program that prompts the user to enter a base number and an \n",
    "exponent, and then calculates the power of the base to the exponent. The program \n",
    "should not use the exponentiation operator (**) or the math.pow() function. The \n",
    "program should handle both positive and negative exponents.  "
   ]
  },
  {
   "cell_type": "code",
   "execution_count": 33,
   "id": "3c1746b4-3b68-4553-ae98-0ac7ab80b48e",
   "metadata": {},
   "outputs": [
    {
     "name": "stdin",
     "output_type": "stream",
     "text": [
      "Enter the base number:  2\n",
      "Enter the exponent:  5\n"
     ]
    },
    {
     "name": "stdout",
     "output_type": "stream",
     "text": [
      "2.0 raised to the power 5 is: 32.0\n"
     ]
    }
   ],
   "source": [
    "\n",
    "base = float(input(\"Enter the base number: \"))\n",
    "exponent = int(input(\"Enter the exponent: \"))\n",
    "\n",
    "result = 1\n",
    "\n",
    "if exponent > 0:\n",
    "    \n",
    "    for _ in range(exponent):\n",
    "        result *= base\n",
    "elif exponent < 0\n",
    "    for _ in range(-exponent):\n",
    "        result *= base\n",
    "    result = 1 / result\n",
    "\n",
    "else:\n",
    "    result = 1\n",
    "\n",
    "print(f\"{base} raised to the power {exponent} is: {result}\")\n"
   ]
  },
  {
   "cell_type": "code",
   "execution_count": null,
   "id": "a9533036-5bd9-4b1f-af97-f2363595d7b6",
   "metadata": {},
   "outputs": [],
   "source": []
  }
 ],
 "metadata": {
  "kernelspec": {
   "display_name": "Python 3 (ipykernel)",
   "language": "python",
   "name": "python3"
  },
  "language_info": {
   "codemirror_mode": {
    "name": "ipython",
    "version": 3
   },
   "file_extension": ".py",
   "mimetype": "text/x-python",
   "name": "python",
   "nbconvert_exporter": "python",
   "pygments_lexer": "ipython3",
   "version": "3.13.7"
  }
 },
 "nbformat": 4,
 "nbformat_minor": 5
}
